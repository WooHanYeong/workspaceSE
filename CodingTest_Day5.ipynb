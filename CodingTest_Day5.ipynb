{
  "nbformat": 4,
  "nbformat_minor": 0,
  "metadata": {
    "colab": {
      "provenance": [],
      "authorship_tag": "ABX9TyN7byS2EiHGffLLLlzKca/s",
      "include_colab_link": true
    },
    "kernelspec": {
      "name": "python3",
      "display_name": "Python 3"
    },
    "language_info": {
      "name": "python"
    }
  },
  "cells": [
    {
      "cell_type": "markdown",
      "metadata": {
        "id": "view-in-github",
        "colab_type": "text"
      },
      "source": [
        "<a href=\"https://colab.research.google.com/github/WooHanYeong/workspaceSE/blob/master/CodingTest_Day5.ipynb\" target=\"_parent\"><img src=\"https://colab.research.google.com/assets/colab-badge.svg\" alt=\"Open In Colab\"/></a>"
      ]
    },
    {
      "cell_type": "code",
      "execution_count": 8,
      "metadata": {
        "id": "YU5t3cU2cPEw"
      },
      "outputs": [],
      "source": [
        "#옷가게 할인 받기\n",
        "\n",
        "\n",
        "def solution(price):\n",
        "  if price >=500000 :\n",
        "    answer = price*0.8\n",
        "  elif 500000> price >=300000 :\n",
        "    answer =price*0.9\n",
        "  elif 300000>price >=100000 :\n",
        "    answer = price*0.95\n",
        "  else :\n",
        "    answer = price\n",
        "\n",
        "  return int(answer)"
      ]
    },
    {
      "cell_type": "code",
      "source": [
        "#아이스 아메리카노\n",
        "\n",
        "\n",
        "def solution(money):\n",
        "    aa=5500\n",
        "    answer = []\n",
        "    answer.append(money //aa)\n",
        "    answer.append(money % aa)\n",
        "    return answer\n",
        "\n",
        "solution(15000)"
      ],
      "metadata": {
        "colab": {
          "base_uri": "https://localhost:8080/"
        },
        "id": "uxJHIN88d6n6",
        "outputId": "2a096506-aacf-4802-f75b-ca5d3eb09af0"
      },
      "execution_count": 15,
      "outputs": [
        {
          "output_type": "execute_result",
          "data": {
            "text/plain": [
              "[2, 4000]"
            ]
          },
          "metadata": {},
          "execution_count": 15
        }
      ]
    },
    {
      "cell_type": "code",
      "source": [
        "# 나이출력\n",
        "\n",
        "def solution(age):\n",
        "    answer = 2022 - age +1\n",
        "    return answer\n",
        "\n",
        "solution(40)"
      ],
      "metadata": {
        "colab": {
          "base_uri": "https://localhost:8080/"
        },
        "id": "e33aoGQJgxxq",
        "outputId": "b8a03912-17b1-4b20-bdb3-150a88aa867f"
      },
      "execution_count": 16,
      "outputs": [
        {
          "output_type": "execute_result",
          "data": {
            "text/plain": [
              "1983"
            ]
          },
          "metadata": {},
          "execution_count": 16
        }
      ]
    },
    {
      "cell_type": "code",
      "source": [
        "# 배열뒤집기\n",
        "\n",
        "def solution(num_list):\n",
        "    answer = []\n",
        "    return answer\n",
        ""
      ],
      "metadata": {
        "id": "NJsPRip9oxOe"
      },
      "execution_count": null,
      "outputs": []
    },
    {
      "cell_type": "code",
      "source": [],
      "metadata": {
        "id": "jSkFwL7Og1nx"
      },
      "execution_count": null,
      "outputs": []
    },
    {
      "cell_type": "code",
      "source": [],
      "metadata": {
        "id": "86xr7ja_gjYq"
      },
      "execution_count": null,
      "outputs": []
    }
  ]
}